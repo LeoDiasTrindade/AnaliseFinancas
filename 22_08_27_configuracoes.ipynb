{
  "nbformat": 4,
  "nbformat_minor": 0,
  "metadata": {
    "colab": {
      "name": "22_08_27_configuracoes.ipynb",
      "provenance": [],
      "authorship_tag": "ABX9TyN2gQ0C5zXVuYiuuU2cG43q",
      "include_colab_link": true
    },
    "kernelspec": {
      "name": "python3",
      "display_name": "Python 3"
    },
    "language_info": {
      "name": "python"
    }
  },
  "cells": [
    {
      "cell_type": "markdown",
      "metadata": {
        "id": "view-in-github",
        "colab_type": "text"
      },
      "source": [
        "<a href=\"https://colab.research.google.com/github/LeoDiasTrindade/AnaliseFinancas/blob/main/22_08_27_configuracoes.ipynb\" target=\"_parent\"><img src=\"https://colab.research.google.com/assets/colab-badge.svg\" alt=\"Open In Colab\"/></a>"
      ]
    },
    {
      "cell_type": "code",
      "execution_count": 15,
      "metadata": {
        "colab": {
          "base_uri": "https://localhost:8080/",
          "height": 34
        },
        "cellView": "form",
        "id": "Yoz6ymuXiwE2",
        "outputId": "5847c9b4-3de2-4c6e-f693-ab363eda47e3"
      },
      "outputs": [
        {
          "output_type": "stream",
          "name": "stdout",
          "text": [
            "Executado em 27/08/2022 as 11:11.\n"
          ]
        },
        {
          "output_type": "display_data",
          "data": {
            "text/html": [
              "        <script type=\"text/javascript\">\n",
              "        window.PlotlyConfig = {MathJaxConfig: 'local'};\n",
              "        if (window.MathJax) {MathJax.Hub.Config({SVG: {font: \"STIX-Web\"}});}\n",
              "        if (typeof require !== 'undefined') {\n",
              "        require.undef(\"plotly\");\n",
              "        requirejs.config({\n",
              "            paths: {\n",
              "                'plotly': ['https://cdn.plot.ly/plotly-2.8.3.min']\n",
              "            }\n",
              "        });\n",
              "        require(['plotly'], function(Plotly) {\n",
              "            window._Plotly = Plotly;\n",
              "        });\n",
              "        }\n",
              "        </script>\n",
              "        "
            ]
          },
          "metadata": {}
        }
      ],
      "source": [
        "#@markdown Configurando...\n",
        "\n",
        "''' Utils '''\n",
        "import re\n",
        "from datetime import datetime\n",
        "import pytz\n",
        "timezone = pytz.timezone('America/Sao_Paulo')\n",
        "from glob import glob\n",
        "from IPython.display import display, clear_output\n",
        "\n",
        "''' instalações necessárias '''\n",
        "try:\n",
        "  instalacoes_necessarias\n",
        "except NameError:\n",
        "  print('instalando...')\n",
        "  !pip install -q googletrans==4.0.0rc1 # https://pypi.org/project/googletrans/\n",
        "  !pip install -q yfinance --upgrade    # https://pypi.org/project/yfinance/\n",
        "  !pip install -q quandl                # https://github.com/quandl/quandl-python\n",
        "  !pip install -q investpy              # https://pypi.org/project/investpy/\n",
        "  instalacoes_necessarias = datetime.now(timezone).strftime('Configurado em %d/%m/%Y as %H:%M.')\n",
        "  clear_output()\n",
        "print(instalacoes_necessarias)\n",
        "\n",
        "''' conexão de dados  '''\n",
        "import yfinance as yf\n",
        "import investpy as inv\n",
        "import quandl\n",
        "quandl.ApiConfig.api_key = 'XjVtHyrCSxB4xG9iyLUx'\n",
        "from googletrans import Translator\n",
        "translator = Translator()\n",
        "\n",
        "''' manipulação de dados em python '''\n",
        "import numpy as np\n",
        "from scipy import stats\n",
        "import pandas as pd\n",
        "pd.set_option('display.max_rows', None)\n",
        "pd.set_option('display.max_columns', None)\n",
        "pd.set_option('float_format', '{:,.2f}'.format) # pd.set_eng_float_format(accuracy=3, use_eng_prefix=True)\n",
        "pd.set_option('display.precision', 2)\n",
        "pd.set_option(\"max_colwidth\", 6)\n",
        "pd.set_option('plotting.backend', 'matplotlib')\n",
        "\n",
        "''' visualização de dados '''\n",
        "import matplotlib.pyplot as plt\n",
        "plt.style.use('seaborn')\n",
        "import plotly\n",
        "#import plotly.np.express as px\n",
        "import plotly.graph_objs as go\n",
        "import plotly.offline as ply\n",
        "from plotly.offline import iplot, init_notebook_mode\n",
        "import seaborn as sns\n",
        "import cufflinks as cf                # https://github.com/santosjorge/cufflinks\n",
        "cf.go_offline()\n",
        "plotly.io.renderers.default = 'colab' # plotly no google colab junto com cufflinks "
      ]
    },
    {
      "cell_type": "code",
      "source": [
        "#@markdown Inserir ticker na B3 e intervalo de tempo a considerar\n",
        "\n",
        "codigo  = 'mrfg3'      #@param {type:\"string\"}\n",
        "inicio  = '2018-01-04'  #@param {type:\"date\"}\n",
        "termino = '2022-01-28'  #@param {type:\"date\"}\n",
        "\n",
        "codigo = codigo.upper()\n",
        "codigo_yf = codigo+'.SA'\n",
        "\n",
        "desc = inv.get_stock_company_profile(stock = codigo\n",
        "                                           , country = \"Brazil\")\n",
        "\n",
        "result = translator.translate(desc['desc'], dest='pt')\n",
        "\n",
        "result.text"
      ],
      "metadata": {
        "colab": {
          "base_uri": "https://localhost:8080/",
          "height": 87
        },
        "cellView": "form",
        "id": "hoRy7Lojm4YE",
        "outputId": "a3914183-d749-42fe-b985-3b774ff231c9"
      },
      "execution_count": 17,
      "outputs": [
        {
          "output_type": "execute_result",
          "data": {
            "text/plain": [
              "'A Marfrig Global Foods S.A., por meio de suas subsidiárias, opera nas indústrias de Food and Food Service no Brasil, Estados Unidos, Uruguai e Argentina.Produz, processa, distribui e vende proteínas à base de animais, como carne bovina, cordeiro e peixe, além de proteínas à base de plantas;e vários outros produtos alimentares, incluindo vegetais congelados, ovelhas, peixes e molhos.A Companhia também se envolve em negociações de energia e serviços associados, de transporte de leasing e processamento de couro.Ele vende e exporta seus produtos para redes de restaurantes e supermercados e casas em aproximadamente 100 países.A empresa era anteriormente conhecida como Marfrig Alimentos S.A. e mudou seu nome para a Marfrig Global Foods S.A. em janeiro de 2014. A Marfrig Global Foods S.A. foi fundada em 1986 e está sediada em São Paulo, Brasil.'"
            ],
            "application/vnd.google.colaboratory.intrinsic+json": {
              "type": "string"
            }
          },
          "metadata": {},
          "execution_count": 17
        }
      ]
    }
  ]
}